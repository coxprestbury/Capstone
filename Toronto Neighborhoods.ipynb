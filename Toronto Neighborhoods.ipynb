{
 "cells": [
  {
   "cell_type": "code",
   "execution_count": 126,
   "metadata": {},
   "outputs": [],
   "source": [
    "import pandas as pd # library for data analsysis\n",
    "import numpy as np # library to handle data in a vectorized manner"
   ]
  },
  {
   "cell_type": "code",
   "execution_count": 247,
   "metadata": {},
   "outputs": [
    {
     "data": {
      "text/plain": [
       "(212, 3)"
      ]
     },
     "execution_count": 247,
     "metadata": {},
     "output_type": "execute_result"
    }
   ],
   "source": [
    "#Import the file from the html site\n",
    "df = pd.read_html(\"https://en.wikipedia.org/wiki/List_of_postal_codes_of_Canada:_M\",header=0)[0]\n",
    "\n",
    "#Remove rows that are not assigned\n",
    "df = df[df.Borough != 'Not assigned']\n",
    "\n",
    "#Find Duplicated rows\n",
    "df_non_dups = df.drop_duplicates(['Postcode','Borough'], keep=False)\n",
    "df_dups = df[df.duplicated(['Postcode','Borough'], keep=False)]\n",
    "\n",
    "#Create blank dataframe to store de-duped values\n",
    "df_dedup = pd.DataFrame(columns=['Postcode','Borough','Neighbourhood'])\n",
    "\n",
    "#Get values of first row in dups\n",
    "updateIndex = df_dups.index[0]\n",
    "currentPostcode = df_dups.iloc[0,0]\n",
    "currentBorough = df_dups.iloc[0,1]\n",
    "updateNeighborhood = ''\n",
    "concatString = ''\n",
    "\n",
    "#Loop through the dups and create update dataframe with concatinated names\n",
    "for index, row in df_dups.iterrows():\n",
    "  if row['Postcode'] == currentPostcode:\n",
    "    updateNeighborhood = updateNeighborhood + concatString + row['Neighbourhood'] \n",
    "    concatString = ', '\n",
    "  else:  \n",
    "    df_dedup.loc[updateIndex] = np.array([currentPostcode, currentBorough, updateNeighborhood])\n",
    "    \n",
    "    updateIndex = index\n",
    "    currentPostcode = row['Postcode']\n",
    "    currentBorough = row['Borough']\n",
    "    updateNeighborhood = row['Neighbourhood'] \n",
    "\n",
    "#Add the last row\n",
    "df_dedup.loc[updateIndex] = np.array([currentPostcode, currentBorough, updateNeighborhood])\n",
    "\n",
    "\n",
    "#Combine data frames to get full list\n",
    "df_non_dups = df_non_dups.append(df_dedup)\n",
    "\n",
    "#Update Neighbourhoods that are not assigned\n",
    "df_non_dups.Neighbourhood.replace('Not assigned',df_non_dups.Borough,inplace=True)\n",
    "\n",
    "\n",
    "\n",
    "df_non_dups.shape\n",
    "\n"
   ]
  },
  {
   "cell_type": "code",
   "execution_count": null,
   "metadata": {},
   "outputs": [],
   "source": []
  },
  {
   "cell_type": "code",
   "execution_count": null,
   "metadata": {},
   "outputs": [],
   "source": []
  }
 ],
 "metadata": {
  "kernelspec": {
   "display_name": "Python 3",
   "language": "python",
   "name": "python3"
  },
  "language_info": {
   "codemirror_mode": {
    "name": "ipython",
    "version": 3
   },
   "file_extension": ".py",
   "mimetype": "text/x-python",
   "name": "python",
   "nbconvert_exporter": "python",
   "pygments_lexer": "ipython3",
   "version": "3.4.5"
  }
 },
 "nbformat": 4,
 "nbformat_minor": 2
}
